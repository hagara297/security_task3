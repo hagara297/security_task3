{
 "cells": [
  {
   "cell_type": "code",
   "execution_count": 4,
   "id": "781295c8-b092-4720-b8d4-dbbe5f9d6b1e",
   "metadata": {},
   "outputs": [
    {
     "name": "stdin",
     "output_type": "stream",
     "text": [
      "Enter 1 to calculate hash, 2 to verify integrity:  2\n",
      "Enter the file path:  /Users/applebuy/security_assig3.docx\n",
      "Enter the expected SHA-256 hash:  9c158a4a7298686e93c7e96af7d668a0def189d8a1355f706ddfc0e20b73a9b0\n"
     ]
    },
    {
     "name": "stdout",
     "output_type": "stream",
     "text": [
      "File integrity is valid.\n"
     ]
    }
   ],
   "source": [
    "import hashlib\n",
    "import os\n",
    "\n",
    "def calculate_sha256(file_path):\n",
    "    \"\"\"Calculate the SHA-256 hash of a file.\"\"\"\n",
    "    sha256 = hashlib.sha256()\n",
    "    with open(file_path, \"rb\") as f:\n",
    "        while True:\n",
    "            data = f.read(65536)  # Read in 64KB chunks\n",
    "            if not data:\n",
    "                break\n",
    "            sha256.update(data)\n",
    "    return sha256.hexdigest()\n",
    "\n",
    "def verify_integrity(file_path, expected_hash):\n",
    "    \"\"\"Verify the integrity of a file by comparing its SHA-256 hash with an expected hash.\"\"\"\n",
    "    calculated_hash = calculate_sha256(file_path)\n",
    "    if calculated_hash == expected_hash:\n",
    "        print(\"File integrity is valid.\")\n",
    "    else:\n",
    "        print(\"File integrity is invalid.\")\n",
    "\n",
    "def main():\n",
    "    choice = input(\"Enter 1 to calculate hash, 2 to verify integrity: \")\n",
    "    if choice == \"1\":\n",
    "        file_path = input(\"Enter the file path: \")\n",
    "        if os.path.exists(file_path):\n",
    "            file_hash = calculate_sha256(file_path)\n",
    "            print(\"SHA-256 hash of the file:\", file_hash)\n",
    "        else:\n",
    "            print(\"File not found.\")\n",
    "    elif choice == \"2\":\n",
    "        file_path = input(\"Enter the file path: \")\n",
    "        expected_hash = input(\"Enter the expected SHA-256 hash: \")\n",
    "        if os.path.exists(file_path):\n",
    "            verify_integrity(file_path, expected_hash)\n",
    "        else:\n",
    "            print(\"File not found.\")\n",
    "    else:\n",
    "        print(\"Invalid choice.\")\n",
    "\n",
    "if __name__ == \"__main__\":\n",
    "    \n",
    "    main()\n"
   ]
  },
  {
   "cell_type": "code",
   "execution_count": 5,
   "id": "d6f64870-10a9-4add-ba4a-adb6f60aba80",
   "metadata": {},
   "outputs": [
    {
     "name": "stdin",
     "output_type": "stream",
     "text": [
      "Enter 1 to calculate hash, 2 to verify integrity:  2\n",
      "Enter the file path:  /Users/applebuy/security_assig3.docx\n",
      "Enter the expected SHA-256 hash:  9c158a4a7298686e93c7e96af7d668a0def189d8a1355f706ddfc0e20b73a9b0\n"
     ]
    },
    {
     "name": "stdout",
     "output_type": "stream",
     "text": [
      "File integrity is invalid.\n"
     ]
    }
   ],
   "source": [
    "def calculate_sha256(file_path):\n",
    "    \"\"\"Calculate the SHA-256 hash of a file.\"\"\"\n",
    "    sha256 = hashlib.sha256()\n",
    "    with open(file_path, \"rb\") as f:\n",
    "        while True:\n",
    "            data = f.read(65536)  # Read in 64KB chunks\n",
    "            if not data:\n",
    "                break\n",
    "            sha256.update(data)\n",
    "    return sha256.hexdigest()\n",
    "\n",
    "def verify_integrity(file_path, expected_hash):\n",
    "    \"\"\"Verify the integrity of a file by comparing its SHA-256 hash with an expected hash.\"\"\"\n",
    "    calculated_hash = calculate_sha256(file_path)\n",
    "    if calculated_hash == expected_hash:\n",
    "        print(\"File integrity is valid.\")\n",
    "    else:\n",
    "        print(\"File integrity is invalid.\")\n",
    "\n",
    "def main():\n",
    "    choice = input(\"Enter 1 to calculate hash, 2 to verify integrity: \")\n",
    "    if choice == \"1\":\n",
    "        file_path = input(\"Enter the file path: \")\n",
    "        if os.path.exists(file_path):\n",
    "            file_hash = calculate_sha256(file_path)\n",
    "            print(\"SHA-256 hash of the file:\", file_hash)\n",
    "        else:\n",
    "            print(\"File not found.\")\n",
    "    elif choice == \"2\":\n",
    "        file_path = input(\"Enter the file path: \")\n",
    "        expected_hash = input(\"Enter the expected SHA-256 hash: \")\n",
    "        if os.path.exists(file_path):\n",
    "            verify_integrity(file_path, expected_hash)\n",
    "        else:\n",
    "            print(\"File not found.\")\n",
    "    else:\n",
    "        print(\"Invalid choice.\")\n",
    "\n",
    "if __name__ == \"__main__\":\n",
    "    \n",
    "    main()"
   ]
  },
  {
   "cell_type": "code",
   "execution_count": null,
   "id": "87bbf937-2a08-42b1-9066-1588a63a2f1e",
   "metadata": {},
   "outputs": [],
   "source": []
  }
 ],
 "metadata": {
  "kernelspec": {
   "display_name": "Python 3 (ipykernel)",
   "language": "python",
   "name": "python3"
  },
  "language_info": {
   "codemirror_mode": {
    "name": "ipython",
    "version": 3
   },
   "file_extension": ".py",
   "mimetype": "text/x-python",
   "name": "python",
   "nbconvert_exporter": "python",
   "pygments_lexer": "ipython3",
   "version": "3.11.7"
  }
 },
 "nbformat": 4,
 "nbformat_minor": 5
}
